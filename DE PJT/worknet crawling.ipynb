{
 "cells": [
  {
   "cell_type": "code",
   "execution_count": 1,
   "id": "f60bf67f",
   "metadata": {},
   "outputs": [],
   "source": [
    "import requests\n",
    "from bs4 import BeautifulSoup"
   ]
  },
  {
   "cell_type": "code",
   "execution_count": 10,
   "id": "7a864e4f",
   "metadata": {},
   "outputs": [],
   "source": [
    "\n",
    "keyword = '빅데이터'\n",
    "\n",
    "url = 'http://openapi.work.go.kr/opi/opi/opia/wantedApi.do?authKey=WNL8DZASKFQ3PB9R4SNXI2VR1HK&callTp=L&returnType=XML&startPage=1&display=10&keyword={}&occupation=025'.format(keyword)\n",
    "res = requests.get(url)\n",
    "text = res.text\n",
    "\n",
    "soup = BeautifulSoup(text, 'lxml-xml') "
   ]
  },
  {
   "cell_type": "code",
   "execution_count": 11,
   "id": "12371166",
   "metadata": {},
   "outputs": [
    {
     "name": "stdout",
     "output_type": "stream",
     "text": [
      "[스타트업 팀 빌딩] 데이터 기반 농업 연구원 모... 22-09-21 22-10-20 None\n",
      "----------\n",
      "패션 데이터 분석 및 관리 정규직 채용공고 22-09-21 22-09-29 None\n",
      "----------\n",
      "IT 컨설턴트(DB 부문) 정규직 채용 22-09-21 채용시까지  22-10-15 None\n",
      "----------\n",
      "GIST교원창업기업 리버밴스(주) 개발자 모집 22-09-20 채용시까지  22-11-19 None\n",
      "----------\n",
      "데이터 시각화 신입 및 경력 컨설턴트 22-09-20 채용시까지  22-11-17 None\n",
      "----------\n",
      "마케팅/비지니스 데이터 분석가 신입 채용 22-09-20 22-09-30 None\n",
      "----------\n",
      "데이터분석/활용 전문가 채용 22-09-19 채용시까지  22-11-18 None\n",
      "----------\n",
      "WEB 프로그래밍, DB강사 정규직 채용(경북산업... 22-09-16 채용시까지  22-11-14 None\n",
      "----------\n",
      "백엔드 개발 연구원 모집합니다. 22-09-15 22-09-30 None\n",
      "----------\n",
      "[E&C GLS] 시스템 분석 / 설계 / 개발자... 22-09-14 채용시까지  22-10-31 None\n",
      "----------\n"
     ]
    }
   ],
   "source": [
    "for wanted in soup.select('wantedRoot > wanted'):\n",
    "    print(#wanted.wantedAuthNo.text, #구인인증번호\n",
    "          #wanted.company.text, #회사명\n",
    "          #wanted.busino.text, #사업자등록번호 #에러 발생!\n",
    "          wanted.title.text, #채용제목\n",
    "          #wanted.salTpNm.text, #임금형태\n",
    "          #wanted.sal.text, #급여\n",
    "#           wanted.minSal.text, #최소임금액\n",
    "#           wanted.maxSal.text, #최대임금액\n",
    "#           wanted.region.text, #근무지역\n",
    "#           wanted.holidayTpNm.text, #근무형태\n",
    "#           wanted.minEdubg.text, #최소학력\n",
    "#           #wanted.maxEdubg.text, #최대학력 #에러 발생!\n",
    "#           wanted.career.text, #경력\n",
    "          wanted.regDt.text, #등록일자\n",
    "          wanted.closeDt.text, #마감일자 \n",
    "#           wanted.infoSvc.text, #정보제공처\n",
    "#           wanted.wantedInfoUrl.text, #워크넷 채용정보 URL\n",
    "#           wanted.wantedMobileInfoUrl.text, #워크넷 모바일 채용정보 URL\n",
    "#           wanted.zipCd.text, #근무지 우편주소\n",
    "#           wanted.strtnmCd.text, #근무지 도로명주소\n",
    "#           wanted.basicAddr.text, #근무지 기본주소\n",
    "#           wanted.detailAddr.text, #근무지 상세주소\n",
    "#           wanted.empTpCd.text, #고용형태코드 \n",
    "#           wanted.jobsCd.text, #직종코드\n",
    "#           wanted.smodifyDtm.text, #최종수정일\n",
    "          wanted.sortOrderBy)\n",
    "    print('----------')"
   ]
  }
 ],
 "metadata": {
  "kernelspec": {
   "display_name": "Python 3 (ipykernel)",
   "language": "python",
   "name": "python3"
  },
  "language_info": {
   "codemirror_mode": {
    "name": "ipython",
    "version": 3
   },
   "file_extension": ".py",
   "mimetype": "text/x-python",
   "name": "python",
   "nbconvert_exporter": "python",
   "pygments_lexer": "ipython3",
   "version": "3.9.12"
  }
 },
 "nbformat": 4,
 "nbformat_minor": 5
}
